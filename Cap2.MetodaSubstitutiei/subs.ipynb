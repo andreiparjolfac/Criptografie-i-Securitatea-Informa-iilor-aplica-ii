{
 "cells": [
  {
   "cell_type": "code",
   "execution_count": 10,
   "metadata": {},
   "outputs": [],
   "source": [
    "class Permutare:\n",
    "    def __init__(self,indici=[],valori=[]):\n",
    "        self.indici = indici \n",
    "        self.valori = valori \n",
    "\n",
    "    def compune(self,other):\n",
    "        self = self.copy()\n",
    "        for indice in self.indici:\n",
    "            self.valori[indice] = other.valori[self.valori[indice]]\n",
    "        return self\n",
    "\n",
    "    def copy(self):\n",
    "        return Permutare(self.indici.copy(),self.valori.copy())\n",
    "    \n",
    "    def __str__(self):\n",
    "        res = \"\"\n",
    "        res += str(self.indici) + \"\\n\"\n",
    "        res += str(list(map(lambda x : chr(x+ord('A')),self.valori)))\n",
    "        return res\n",
    "\n",
    "alphabet = list(map(lambda x: chr(x+ord('a')),range(0,26)))\n",
    "alphabet = list(map(lambda x:x.upper(),alphabet))\n",
    "\n",
    "def generate_alphabet_from_pass(password):\n",
    "    unused_chars = []\n",
    "    for letter in password:\n",
    "        if letter not in unused_chars and letter in alphabet:\n",
    "            unused_chars.append(letter)\n",
    "    for letter in alphabet:\n",
    "        if letter not in unused_chars:\n",
    "            unused_chars.append(letter)\n",
    "    return list(map(lambda x:ord(x)-ord('A'),unused_chars))\n",
    "\n",
    "def encrypt_with_substitution(plaintext,perm):\n",
    "    res = \"\"\n",
    "    for x in plaintext:\n",
    "        if x == ' ':\n",
    "            res+='Q'\n",
    "        else:\n",
    "            res+=x \n",
    "    enc = \"\"\n",
    "    for x in res:\n",
    "        enc+=chr(perm.valori[ord(x)-ord('A')]+ord('A'))\n",
    "    return enc\n",
    "        \n",
    "def decipher(ciphertext,perm):\n",
    "    res = \"\"\n",
    "    for c in ciphertext:\n",
    "        if not c == ' ':\n",
    "            i=perm.valori.index(ord(c)-ord('A'))\n",
    "            res+=chr(ord('A') + i)\n",
    "    return res\n",
    "\n"
   ]
  },
  {
   "cell_type": "code",
   "execution_count": 11,
   "metadata": {},
   "outputs": [],
   "source": [
    "# perm1 = Permutare(\n",
    "#     [0,1,2,3,4],\n",
    "#     [4,3,2,1,0]\n",
    "# )\n",
    "# perm2 = Permutare(\n",
    "#     [0,1,2,3,4],\n",
    "#     [0,1,2,3,4]\n",
    "# )\n",
    "# str(perm1.compune(perm1))\n",
    "\n",
    "# generate_alphabet_from_pass(\"TEST ARESISTEM\")"
   ]
  },
  {
   "cell_type": "markdown",
   "metadata": {},
   "source": [
    "Exercit¸iul 2.2.1"
   ]
  },
  {
   "cell_type": "code",
   "execution_count": 12,
   "metadata": {},
   "outputs": [
    {
     "data": {
      "text/plain": [
       "'OHDXCOFMGQCZUOVDHOXODGDCVQIKZDHIDVBMVDZYBGKIMZ'"
      ]
     },
     "execution_count": 12,
     "metadata": {},
     "output_type": "execute_result"
    }
   ],
   "source": [
    "corespondenta = Permutare(\n",
    "    list(range(0,26)),\n",
    "    list(range(25,-1,-1))\n",
    ")\n",
    "\n",
    "parola = Permutare(\n",
    "    list(range(0,26)),\n",
    "    generate_alphabet_from_pass(\"TEST ARESISTEM\")\n",
    ")\n",
    "\n",
    "rezultat = corespondenta.compune(parola)\n",
    "encrypt_with_substitution(\"IN CRIPTOGRAFIE NICI O REGULA NU ESTE ABSOLUTA\",rezultat)"
   ]
  },
  {
   "cell_type": "markdown",
   "metadata": {},
   "source": [
    "Exercit¸iul 2.2.2"
   ]
  },
  {
   "cell_type": "code",
   "execution_count": 13,
   "metadata": {},
   "outputs": [
    {
     "name": "stdout",
     "output_type": "stream",
     "text": [
      "GEORGEWALKERBUSHXXXX\n"
     ]
    }
   ],
   "source": [
    "parola2 = Permutare(\n",
    "    list(range(0,26)),\n",
    "    generate_alphabet_from_pass(\"PASSWORD\")\n",
    ")\n",
    "print(decipher(\"DOJMD OVPGF OMATN BXXXX\",parola2))"
   ]
  },
  {
   "cell_type": "markdown",
   "metadata": {},
   "source": [
    "Exercit¸iul 2.3.4 S˘a se cifreze mesajul:\n",
    "WEB DESIGN\n",
    "algoritmul utilizat fiind o substitut¸ie simpl˘a determinat˘a de cuvˆantul cheie BROWSER.\n"
   ]
  },
  {
   "cell_type": "code",
   "execution_count": 14,
   "metadata": {},
   "outputs": [
    {
     "data": {
      "text/plain": [
       "'VSRMWSPDAJ'"
      ]
     },
     "execution_count": 14,
     "metadata": {},
     "output_type": "execute_result"
    }
   ],
   "source": [
    "parola4 = Permutare(\n",
    "    list(range(0,26)),\n",
    "    generate_alphabet_from_pass(\"BROWSER\")\n",
    ")\n",
    "encrypt_with_substitution(\"WEB DESIGN\",parola4)"
   ]
  },
  {
   "cell_type": "markdown",
   "metadata": {},
   "source": [
    "Exercit¸iul 2.3.5 S˘a se cifreze mesajul:\n",
    "PUBLIC KEY\n",
    "algoritmul utilizat fiind o substitut¸ie simpl˘a determinat˘a de cuvˆantul cheie\n",
    "ASYMMETRIC.\n"
   ]
  },
  {
   "cell_type": "code",
   "execution_count": 15,
   "metadata": {},
   "outputs": [
    {
     "data": {
      "text/plain": [
       "'KQSFCYLDEX'"
      ]
     },
     "execution_count": 15,
     "metadata": {},
     "output_type": "execute_result"
    }
   ],
   "source": [
    "parola5 = Permutare(\n",
    "    list(range(0,26)),\n",
    "    generate_alphabet_from_pass(\"ASYMMETRIC\")\n",
    ")\n",
    "encrypt_with_substitution(\"PUBLIC KEY\",parola5)"
   ]
  },
  {
   "cell_type": "markdown",
   "metadata": {},
   "source": [
    "Exercit¸iul 2.3.6 S˘a se descifreze mesajul:\n",
    "ONCJB DFJPT DCJKN KKQTV TDSXXX\n",
    "algoritmul utilizat fiind o substitut¸ie simpl˘a determinat˘a de cuvˆantul cheie CRIPTOGRAFIE.\n"
   ]
  },
  {
   "cell_type": "code",
   "execution_count": 16,
   "metadata": {},
   "outputs": [
    {
     "name": "stdout",
     "output_type": "stream",
     "text": [
      "FRANKLINDELANOROOSEVELTXXX\n"
     ]
    }
   ],
   "source": [
    "parola6 = Permutare(\n",
    "    list(range(0,26)),\n",
    "    generate_alphabet_from_pass(\"CRIPTOGRAFIE\")\n",
    ")\n",
    "print(decipher(\"ONCJB DFJPT DCJKN KKQTV TDSXXX\",parola6))"
   ]
  },
  {
   "cell_type": "markdown",
   "metadata": {},
   "source": [
    "Exercit¸iul 2.3.7 S˘a se descifreze mesajul:\n",
    "EKBJO DSZAT NCGPF TJJTP YXXXX\n",
    "algoritmul utilizat fiind o substitut¸ie simpl˘a determinat˘a de cuvˆantul cheie CRIPTO."
   ]
  },
  {
   "cell_type": "code",
   "execution_count": 17,
   "metadata": {},
   "outputs": [
    {
     "name": "stdout",
     "output_type": "stream",
     "text": [
      "JOHNFITZGERALDKENNEDYXXXX\n"
     ]
    }
   ],
   "source": [
    "parola7 = Permutare(\n",
    "    list(range(0,26)),\n",
    "    generate_alphabet_from_pass(\"CRIPTO\")\n",
    ")\n",
    "print(decipher(\"EKBJO DSZAT NCGPF TJJTP YXXXX\",parola7))"
   ]
  },
  {
   "cell_type": "markdown",
   "metadata": {},
   "source": [
    "Exercit¸iul 2.3.9 S˘a se cifreze mesajul:\n",
    "PRIVATE KEY\n",
    "algoritmul utilizat fiind o substitut¸ie simpl˘a determinat˘a de cuvˆantul cheie\n",
    "BUCURESTI."
   ]
  },
  {
   "cell_type": "code",
   "execution_count": 18,
   "metadata": {},
   "outputs": [
    {
     "data": {
      "text/plain": [
       "'LNAVBPEMFEY'"
      ]
     },
     "execution_count": 18,
     "metadata": {},
     "output_type": "execute_result"
    }
   ],
   "source": [
    "parola8 = Permutare(\n",
    "    list(range(0,26)),\n",
    "    generate_alphabet_from_pass(\"BUCURESTI\")\n",
    ")\n",
    "encrypt_with_substitution(\"PRIVATE KEY\",parola8)"
   ]
  },
  {
   "cell_type": "markdown",
   "metadata": {},
   "source": [
    "Exercit¸iul 2.3.10 S˘a se descifreze mesajul:\n",
    "LNAVB PEFEY\n",
    "algoritmul utilizat fiind o substitut¸ie simpl˘a determinat˘a de cuvˆantul cheie BUCURESTI."
   ]
  },
  {
   "cell_type": "code",
   "execution_count": 19,
   "metadata": {},
   "outputs": [
    {
     "name": "stdout",
     "output_type": "stream",
     "text": [
      "PRIVATEKEY\n"
     ]
    }
   ],
   "source": [
    "parola9 = Permutare(\n",
    "    list(range(0,26)),\n",
    "    generate_alphabet_from_pass(\"BUCURESTI\")\n",
    ")\n",
    "print(decipher(\"LNAVB PEFEY\",parola9))"
   ]
  },
  {
   "cell_type": "markdown",
   "metadata": {},
   "source": [
    "Exercit¸iul 2.3.11 S˘a se cifreze mesajul:\n",
    "ASSYMETRIC ENCRYPTION\n",
    "algoritmul utilizat fiind o substitut¸ie simpl˘a determinat˘a de cuvˆantul cheie\n",
    "BRASOV.\n"
   ]
  },
  {
   "cell_type": "code",
   "execution_count": 20,
   "metadata": {},
   "outputs": [
    {
     "data": {
      "text/plain": [
       "'BPPYIOQNEAMOJANYLQEKJ'"
      ]
     },
     "execution_count": 20,
     "metadata": {},
     "output_type": "execute_result"
    }
   ],
   "source": [
    "parola10 = Permutare(\n",
    "    list(range(0,26)),\n",
    "    generate_alphabet_from_pass(\"BRASOV\")\n",
    ")\n",
    "\n",
    "encrypt_with_substitution(\"ASSYMETRIC ENCRYPTION\",parola10)"
   ]
  },
  {
   "cell_type": "markdown",
   "metadata": {},
   "source": [
    "Exercit¸iul 2.3.12 S˘a se descifreze mesajul:\n",
    "BPPYI OQNEA OJANY LQEKJ\n",
    "algoritmul utilizat fiind o substitut¸ie simpl˘a determinat˘a de cuvˆantul cheie BRASOV."
   ]
  },
  {
   "cell_type": "code",
   "execution_count": 21,
   "metadata": {},
   "outputs": [
    {
     "data": {
      "text/plain": [
       "'ASSYMETRICENCRYPTION'"
      ]
     },
     "execution_count": 21,
     "metadata": {},
     "output_type": "execute_result"
    }
   ],
   "source": [
    "decipher(\"BPPYI OQNEA OJANY LQEKJ\",parola10)"
   ]
  }
 ],
 "metadata": {
  "kernelspec": {
   "display_name": "Python 3",
   "language": "python",
   "name": "python3"
  },
  "language_info": {
   "codemirror_mode": {
    "name": "ipython",
    "version": 3
   },
   "file_extension": ".py",
   "mimetype": "text/x-python",
   "name": "python",
   "nbconvert_exporter": "python",
   "pygments_lexer": "ipython3",
   "version": "3.11.6"
  }
 },
 "nbformat": 4,
 "nbformat_minor": 2
}
