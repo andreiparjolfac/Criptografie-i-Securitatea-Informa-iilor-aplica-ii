{
 "cells": [
  {
   "cell_type": "code",
   "execution_count": 105,
   "metadata": {},
   "outputs": [],
   "source": [
    "class Permutare:\n",
    "    def __init__(self,indici=[],valori=[]):\n",
    "        self.indici = indici \n",
    "        self.valori = valori \n",
    "\n",
    "    def compune(self,other):\n",
    "        self = self.copy()\n",
    "        for indice in self.indici:\n",
    "            self.valori[indice] = other.valori[self.valori[indice]]\n",
    "        return self\n",
    "\n",
    "    def copy(self):\n",
    "        return Permutare(self.indici.copy(),self.valori.copy())\n",
    "    \n",
    "    def __str__(self):\n",
    "        res = \"\"\n",
    "        res += str(self.indici) + \"\\n\"\n",
    "        res += str(list(map(lambda x : chr(x+ord('A')),self.valori)))\n",
    "        return res\n",
    "\n",
    "alphabet = list(map(lambda x: chr(x+ord('a')),range(0,26)))\n",
    "alphabet = list(map(lambda x:x.upper(),alphabet))\n",
    "\n",
    "def generate_alphabet_from_pass(password):\n",
    "    unused_chars = []\n",
    "    for letter in password:\n",
    "        if letter not in unused_chars and letter in alphabet:\n",
    "            unused_chars.append(letter)\n",
    "    for letter in alphabet:\n",
    "        if letter not in unused_chars:\n",
    "            unused_chars.append(letter)\n",
    "    return list(map(lambda x:ord(x)-ord('A'),unused_chars))\n",
    "\n",
    "def encrypt_with_substitution(plaintext,perm):\n",
    "    res = \"\"\n",
    "    for x in plaintext:\n",
    "        if x == ' ':\n",
    "            res+='Q'\n",
    "        else:\n",
    "            res+=x \n",
    "    enc = \"\"\n",
    "    for x in res:\n",
    "        enc+=chr(perm.valori[ord(x)-ord('A')]+ord('A'))\n",
    "    return enc\n",
    "        \n",
    "def decipher(ciphertext,perm):\n",
    "    res = \"\"\n",
    "    for c in ciphertext:\n",
    "        if not c == ' ':\n",
    "            i=perm.valori.index(ord(c)-ord('A'))\n",
    "            res+=chr(ord('A') + i)\n",
    "    return res\n",
    "\n"
   ]
  },
  {
   "cell_type": "code",
   "execution_count": 106,
   "metadata": {},
   "outputs": [],
   "source": [
    "# perm1 = Permutare(\n",
    "#     [0,1,2,3,4],\n",
    "#     [4,3,2,1,0]\n",
    "# )\n",
    "# perm2 = Permutare(\n",
    "#     [0,1,2,3,4],\n",
    "#     [0,1,2,3,4]\n",
    "# )\n",
    "# str(perm1.compune(perm1))\n",
    "\n",
    "# generate_alphabet_from_pass(\"TEST ARESISTEM\")"
   ]
  },
  {
   "cell_type": "markdown",
   "metadata": {},
   "source": [
    "Exercit¸iul 2.2.1"
   ]
  },
  {
   "cell_type": "code",
   "execution_count": 107,
   "metadata": {},
   "outputs": [
    {
     "data": {
      "text/plain": [
       "'OHDXCOFMGQCZUOVDHOXODGDCVQIKZDHIDVBMVDZYBGKIMZ'"
      ]
     },
     "execution_count": 107,
     "metadata": {},
     "output_type": "execute_result"
    }
   ],
   "source": [
    "corespondenta = Permutare(\n",
    "    list(range(0,26)),\n",
    "    list(range(25,-1,-1))\n",
    ")\n",
    "\n",
    "parola = Permutare(\n",
    "    list(range(0,26)),\n",
    "    generate_alphabet_from_pass(\"TEST ARESISTEM\")\n",
    ")\n",
    "\n",
    "rezultat = corespondenta.compune(parola)\n",
    "encrypt_with_substitution(\"IN CRIPTOGRAFIE NICI O REGULA NU ESTE ABSOLUTA\",rezultat)"
   ]
  },
  {
   "cell_type": "markdown",
   "metadata": {},
   "source": [
    "Exercit¸iul 2.2.2"
   ]
  },
  {
   "cell_type": "code",
   "execution_count": 108,
   "metadata": {},
   "outputs": [
    {
     "name": "stdout",
     "output_type": "stream",
     "text": [
      "GEORGEWALKERBUSHXXXX\n"
     ]
    }
   ],
   "source": [
    "parola2 = Permutare(\n",
    "    list(range(0,26)),\n",
    "    generate_alphabet_from_pass(\"PASSWORD\")\n",
    ")\n",
    "print(decipher(\"DOJMD OVPGF OMATN BXXXX\",parola2))"
   ]
  }
 ],
 "metadata": {
  "kernelspec": {
   "display_name": "Python 3",
   "language": "python",
   "name": "python3"
  },
  "language_info": {
   "codemirror_mode": {
    "name": "ipython",
    "version": 3
   },
   "file_extension": ".py",
   "mimetype": "text/x-python",
   "name": "python",
   "nbconvert_exporter": "python",
   "pygments_lexer": "ipython3",
   "version": "3.11.6"
  }
 },
 "nbformat": 4,
 "nbformat_minor": 2
}
