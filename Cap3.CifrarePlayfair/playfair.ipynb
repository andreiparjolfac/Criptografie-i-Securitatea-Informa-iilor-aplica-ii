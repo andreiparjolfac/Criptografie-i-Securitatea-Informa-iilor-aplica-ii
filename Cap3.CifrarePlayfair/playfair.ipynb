{
 "cells": [
  {
   "cell_type": "code",
   "execution_count": 135,
   "metadata": {},
   "outputs": [],
   "source": [
    "alphabet = list(map(lambda x: chr(x+ord('a')),range(0,26)))\n",
    "alphabet = list(map(lambda x:x.upper(),alphabet))\n",
    "\n",
    "def generate_alphabet_from_pass(password):\n",
    "    unused_chars = []\n",
    "    for letter in password:\n",
    "        if letter not in unused_chars and letter in alphabet:\n",
    "            unused_chars.append(letter)\n",
    "    for letter in alphabet:\n",
    "        if letter not in unused_chars:\n",
    "            unused_chars.append(letter)\n",
    "    i = unused_chars.index('I')\n",
    "    unused_chars[i]='I/J'\n",
    "    unused_chars.remove('J')\n",
    "    return unused_chars"
   ]
  },
  {
   "cell_type": "code",
   "execution_count": 136,
   "metadata": {},
   "outputs": [
    {
     "data": {
      "text/plain": [
       "25"
      ]
     },
     "execution_count": 136,
     "metadata": {},
     "output_type": "execute_result"
    }
   ],
   "source": [
    "len(generate_alphabet_from_pass(\"CRIPTOGRAFIE\"))"
   ]
  },
  {
   "cell_type": "markdown",
   "metadata": {},
   "source": [
    "Exercit¸iul 3.3.1 Scriet¸i o aplicat¸ie care s˘a implementeze urm˘atoarele funct¸ii:\n",
    "- cifrarea unui text cu ajutorul algoritmului Playfair;\n",
    "- descifrarea unui text cifrat cu algoritmul Playfair;\n",
    "Verificat¸i rezultatul pe datele de intrare din exercit¸iile urm˘atoare."
   ]
  },
  {
   "cell_type": "code",
   "execution_count": 137,
   "metadata": {},
   "outputs": [],
   "source": [
    "class PLayFair:\n",
    "    def __init__(self,alphabet):\n",
    "        self.careu = [alphabet[0:5],alphabet[5:10],alphabet[10:15],alphabet[15:20],alphabet[20:25]]\n",
    "\n",
    "    def get_coords(self,letter):\n",
    "        for i in range(0,5):\n",
    "            for j in range(0,5):\n",
    "                if letter in self.careu[i][j]:\n",
    "                    return i,j \n",
    "    \n",
    "    def encrypt(self,plaintext):\n",
    "        if len(plaintext)%2==1:\n",
    "            plaintext+='X'\n",
    "        final_text = ''\n",
    "        for letter in plaintext:\n",
    "            if letter == ' ':\n",
    "                final_text+='X'\n",
    "            else:\n",
    "                final_text+=letter\n",
    "        cipher_text = ''\n",
    "        for i in range(0,len(final_text),2):\n",
    "            cipher_text+=self.__encrypt_digram(final_text[i]+final_text[i+1])\n",
    "        return cipher_text\n",
    "\n",
    "    def decipher(self,ciphertext):\n",
    "        text=''\n",
    "        for letter in ciphertext:\n",
    "            if not letter == ' ':\n",
    "                text+=letter\n",
    "        final_text= ''\n",
    "        for i in range(0,len(text),2):\n",
    "            final_text+=self.__decipher_digram(text[i]+text[i+1])\n",
    "        return final_text\n",
    "\n",
    "\n",
    "    def __encrypt_digram(self,digram):\n",
    "        fx,fy = self.get_coords(digram[0])\n",
    "        lx,ly = self.get_coords(digram[1])\n",
    "\n",
    "        if fx == lx : \n",
    "            fy = (fy + 1)%5\n",
    "            ly = (ly + 1)%5\n",
    "            return self.careu[fx][fy][0] + self.careu[lx][ly][0]\n",
    "\n",
    "        if fy == ly :\n",
    "            fx = (fx+1)%5\n",
    "            lx = (lx+1)%5 \n",
    "            return self.careu[fx][fy][0] + self.careu[lx][ly][0]\n",
    "        \n",
    "        return self.careu[fx][ly][0] + self.careu[lx][fy][0]\n",
    "    \n",
    "    def __decipher_digram(self,digram):\n",
    "        fx,fy = self.get_coords(digram[0])\n",
    "        lx,ly = self.get_coords(digram[1])\n",
    "\n",
    "        if fx == lx : \n",
    "            fy = (fy - 1)%5\n",
    "            ly = (ly - 1)%5\n",
    "            return self.careu[fx][fy][0] + self.careu[lx][ly][0]\n",
    "\n",
    "        if fy == ly :\n",
    "            fx = (fx-1)%5\n",
    "            lx = (lx-1)%5 \n",
    "            return self.careu[fx][fy][0] + self.careu[lx][ly][0]     \n",
    "\n",
    "        return self.careu[fx][ly][0] + self.careu[lx][fy][0]  \n",
    "\n"
   ]
  },
  {
   "cell_type": "code",
   "execution_count": 138,
   "metadata": {},
   "outputs": [
    {
     "data": {
      "text/plain": [
       "'SECRETWRITINGX'"
      ]
     },
     "execution_count": 138,
     "metadata": {},
     "output_type": "execute_result"
    }
   ],
   "source": [
    "pf = PLayFair(generate_alphabet_from_pass(\"CRIPTOGRAFIE\"))\n",
    "pf.decipher(\"UFRIL ERGPC RQAW\")"
   ]
  },
  {
   "cell_type": "markdown",
   "metadata": {},
   "source": [
    "Exercit¸iul 3.3.2 S˘a se cifreze mesajul:\n",
    "SECURITY IS CHANGING FIELD\n",
    "Algoritmul utilizat este cifrul lui Playfair, parola utilizat˘a fiind CHANNEL"
   ]
  },
  {
   "cell_type": "code",
   "execution_count": 139,
   "metadata": {},
   "outputs": [
    {
     "name": "stdout",
     "output_type": "stream",
     "text": [
      "UAEQQKYNVMXAHANELPEFYDPCBF\n"
     ]
    }
   ],
   "source": [
    "pf2 = PLayFair(generate_alphabet_from_pass(\"CHANNEL\"))\n",
    "print(pf2.encrypt(\"SECURITY IS CHANGING FIELD\"))"
   ]
  },
  {
   "cell_type": "markdown",
   "metadata": {},
   "source": [
    "Exercit¸iul 3.3.3 S˘a se cifreze mesajul:\n",
    "AUTONOMOUS ATTACK AGENTS\n",
    "Algoritmul utilizat este cifrul lui Playfair, parola utilizat˘a fiind MALICIOUS.\n",
    "R˘aspuns: UFNDV EOESB CPZQL MFCHF PNGL.\n"
   ]
  },
  {
   "cell_type": "code",
   "execution_count": 143,
   "metadata": {},
   "outputs": [
    {
     "name": "stdout",
     "output_type": "stream",
     "text": [
      "UFNDVEOESBWLNNLMGZLFNVQD\n"
     ]
    }
   ],
   "source": [
    "pf2 = PLayFair(generate_alphabet_from_pass(\"MALICIOUS\"))\n",
    "print(pf2.encrypt(\"AUTONOMOUS ATTACK AGENTS\"))"
   ]
  },
  {
   "cell_type": "markdown",
   "metadata": {},
   "source": [
    "Exercit¸iul 3.3.14 S˘a se descifreze mesajul:\n",
    "RFRBD ONU\n",
    "Algoritmul utilizat este cifrul lui Playfair, parola utilizat˘a fiind PASSWORD.\n"
   ]
  },
  {
   "cell_type": "code",
   "execution_count": 141,
   "metadata": {},
   "outputs": [
    {
     "name": "stdout",
     "output_type": "stream",
     "text": [
      "PREDEALX\n"
     ]
    }
   ],
   "source": [
    "pf2 = PLayFair(generate_alphabet_from_pass(\"PASSWORD\"))\n",
    "print(pf2.decipher(\"RFRBDONU\"))"
   ]
  },
  {
   "cell_type": "markdown",
   "metadata": {},
   "source": [
    "Exercit¸iul 3.3.13 S˘a se cifreze mesajul:\n",
    "PREDEAL\n",
    "Algoritmul utilizat este cifrul lui Playfair, parola utilizat˘a fiind PASSWORD.\n"
   ]
  },
  {
   "cell_type": "code",
   "execution_count": 142,
   "metadata": {},
   "outputs": [
    {
     "name": "stdout",
     "output_type": "stream",
     "text": [
      "RFRBDONU\n"
     ]
    }
   ],
   "source": [
    "pf2 = PLayFair(generate_alphabet_from_pass(\"PASSWORD\"))\n",
    "print(pf2.encrypt(\"PREDEAL\"))"
   ]
  },
  {
   "cell_type": "markdown",
   "metadata": {},
   "source": [
    "Exercit¸iul 3.3.12 S˘a se descifreze mesajul:\n",
    "RFOYHB\n",
    "Algoritmul utilizat este cifrul lui Playfair, parola utilizat˘a fiind SECRET KEY.\n"
   ]
  },
  {
   "cell_type": "code",
   "execution_count": 144,
   "metadata": {},
   "outputs": [
    {
     "name": "stdout",
     "output_type": "stream",
     "text": [
      "SINAIA\n"
     ]
    }
   ],
   "source": [
    "pf2 = PLayFair(generate_alphabet_from_pass(\"SECRETKEY\"))\n",
    "print(pf2.decipher(\"RFOYHB\"))"
   ]
  },
  {
   "cell_type": "markdown",
   "metadata": {},
   "source": [
    "Exercit¸iul 3.3.11 S˘a se cifreze mesajul:\n",
    "SINAIA\n",
    "Algoritmul utilizat este cifrul lui Playfair, parola utilizat˘a fiind SECRET KEY"
   ]
  },
  {
   "cell_type": "code",
   "execution_count": 145,
   "metadata": {},
   "outputs": [
    {
     "name": "stdout",
     "output_type": "stream",
     "text": [
      "RFOYHB\n"
     ]
    }
   ],
   "source": [
    "pf2 = PLayFair(generate_alphabet_from_pass(\"SECRETKEY\"))\n",
    "print(pf2.encrypt(\"SINAIA\"))"
   ]
  },
  {
   "cell_type": "markdown",
   "metadata": {},
   "source": [
    "Exercit¸iul 3.3.10 S˘a se descifreze mesajul:\n",
    "PIGOY CLETY AEYLQ VSFWN\n",
    "Algoritmul utilizat este cifrul lui Playfair, parola utilizat˘a fiind CRYPTOOL"
   ]
  },
  {
   "cell_type": "code",
   "execution_count": 146,
   "metadata": {},
   "outputs": [
    {
     "data": {
      "text/plain": [
       "'THEARTOFPROGRAMXMING'"
      ]
     },
     "execution_count": 146,
     "metadata": {},
     "output_type": "execute_result"
    }
   ],
   "source": [
    "pf2 = PLayFair(generate_alphabet_from_pass(\"CRYPTOOL\"))\n",
    "pf2.decipher(\"PIGOY CLETY AEYLQ VSFWN\")"
   ]
  },
  {
   "cell_type": "markdown",
   "metadata": {},
   "source": [
    "Exercit¸iul 3.3.9 S˘a se descifreze mesajul:\n",
    "GBQY YAAO RNBM\n",
    "Algoritmul utilizat este cifrul lui Playfair, parola utilizat˘a fiind TEST."
   ]
  },
  {
   "cell_type": "code",
   "execution_count": 147,
   "metadata": {},
   "outputs": [
    {
     "data": {
      "text/plain": [
       "'HARXRYTRUMAN'"
      ]
     },
     "execution_count": 147,
     "metadata": {},
     "output_type": "execute_result"
    }
   ],
   "source": [
    "pf2 = PLayFair(generate_alphabet_from_pass(\"TEST\"))\n",
    "pf2.decipher(\"GBQY YAAO RNBM\")"
   ]
  },
  {
   "cell_type": "markdown",
   "metadata": {},
   "source": [
    "Exercit¸iul 3.3.8 S˘a se descifreze mesajul:\n",
    "KDPEK DKBDC RDQOP MTKDC XPNS\n",
    "Algoritmul utilizat este cifrul lui Playfair, parola utilizat˘a fiind PASSWORD."
   ]
  },
  {
   "cell_type": "code",
   "execution_count": 148,
   "metadata": {},
   "outputs": [
    {
     "data": {
      "text/plain": [
       "'GEORGEHERBERTWALKERBUSHX'"
      ]
     },
     "execution_count": 148,
     "metadata": {},
     "output_type": "execute_result"
    }
   ],
   "source": [
    "pf2 = PLayFair(generate_alphabet_from_pass(\"PASSWORD\"))\n",
    "pf2.decipher(\"KDPEK DKBDC RDQOP MTKDC XPNS\")"
   ]
  },
  {
   "cell_type": "markdown",
   "metadata": {},
   "source": [
    "Exercit¸iul 3.3.7 S˘a se descifreze mesajul:\n",
    "KDPEK DOSTF RDRXB NBBBB\n",
    "Algoritmul utilizat este cifrul lui Playfair, parola utilizat˘a fiind PASSWORD."
   ]
  },
  {
   "cell_type": "code",
   "execution_count": 149,
   "metadata": {},
   "outputs": [
    {
     "data": {
      "text/plain": [
       "'GEORGEWALKERBUSHDDDD'"
      ]
     },
     "execution_count": 149,
     "metadata": {},
     "output_type": "execute_result"
    }
   ],
   "source": [
    "pf2 = PLayFair(generate_alphabet_from_pass(\"PASSWORD\"))\n",
    "pf2.decipher(\"KDPEK DOSTF RDRXB NBBBB\")"
   ]
  },
  {
   "cell_type": "markdown",
   "metadata": {},
   "source": [
    "Exercit¸iul 3.3.6 S˘a se descifreze mesajul:\n",
    "KDDPM RUBVR PTSFU HPEBV\n",
    "Algoritmul utilizat este cifrul lui Playfair, parola utilizat˘a fiind PASSWORD."
   ]
  },
  {
   "cell_type": "code",
   "execution_count": 150,
   "metadata": {},
   "outputs": [
    {
     "data": {
      "text/plain": [
       "'GERALDXRUDOLPHXFORDX'"
      ]
     },
     "execution_count": 150,
     "metadata": {},
     "output_type": "execute_result"
    }
   ],
   "source": [
    "pf2 = PLayFair(generate_alphabet_from_pass(\"PASSWORD\"))\n",
    "pf2.decipher(\"KDDPM RUBVR PTSFU HPEBV\")"
   ]
  },
  {
   "cell_type": "markdown",
   "metadata": {},
   "source": [
    "Exercit¸iul 3.3.5 S˘a se cifreze mesajul:\n",
    "THE CIRCLE\n",
    "Algoritmul utilizat este cifrul lui Playfair, parola utilizat˘a fiind ALBUM."
   ]
  },
  {
   "cell_type": "code",
   "execution_count": 152,
   "metadata": {},
   "outputs": [
    {
     "data": {
      "text/plain": [
       "'POFDKQDAKB'"
      ]
     },
     "execution_count": 152,
     "metadata": {},
     "output_type": "execute_result"
    }
   ],
   "source": [
    "pf2 = PLayFair(generate_alphabet_from_pass(\"ALBUM\"))\n",
    "pf2.encrypt(\"THECIRCLE\")"
   ]
  },
  {
   "cell_type": "markdown",
   "metadata": {},
   "source": [
    "Exercit¸iul 3.3.4 S˘a se cifreze mesajul:\n",
    "VALUABLE SOURCE OF REFERENCE\n",
    "Algoritmul utilizat este cifrul lui Playfair, parola utilizat˘a fiind INSTITUTE."
   ]
  },
  {
   "cell_type": "code",
   "execution_count": 153,
   "metadata": {},
   "outputs": [
    {
     "data": {
      "text/plain": [
       "'WERDBCFDNPDZDAMGMDMFMDTABV'"
      ]
     },
     "execution_count": 153,
     "metadata": {},
     "output_type": "execute_result"
    }
   ],
   "source": [
    "pf2 = PLayFair(generate_alphabet_from_pass(\"INSTITUTE\"))\n",
    "pf2.encrypt(\"VALUABLESOURCEOFREFERENCE\")"
   ]
  }
 ],
 "metadata": {
  "kernelspec": {
   "display_name": "Python 3",
   "language": "python",
   "name": "python3"
  },
  "language_info": {
   "codemirror_mode": {
    "name": "ipython",
    "version": 3
   },
   "file_extension": ".py",
   "mimetype": "text/x-python",
   "name": "python",
   "nbconvert_exporter": "python",
   "pygments_lexer": "ipython3",
   "version": "3.11.6"
  }
 },
 "nbformat": 4,
 "nbformat_minor": 2
}
