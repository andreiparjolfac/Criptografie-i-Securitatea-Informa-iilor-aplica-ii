{
 "cells": [
  {
   "cell_type": "code",
   "execution_count": 21,
   "metadata": {},
   "outputs": [],
   "source": [
    "import copy\n",
    "\n",
    "def inversa_modulo(x,mod):\n",
    "    for i in range(1,mod):\n",
    "        if (i*x)%mod==1:\n",
    "            return i\n",
    "\n",
    "class Matrice:\n",
    "    def __init__(self,alphabet,size,modulo) -> None:\n",
    "        self.size = size \n",
    "        self.mat = []\n",
    "        self.modulo = modulo\n",
    "        alphabet = list(map(lambda x:(ord(x)-ord('A'))%self.modulo,alphabet))\n",
    "        for i in range(0,len(alphabet),size):\n",
    "            self.mat.append(alphabet[i:i+size])\n",
    "    def transpose(self):\n",
    "        res = Matrice([],self.size,self.modulo)\n",
    "        res.mat = copy.deepcopy(self.mat)\n",
    "        for i in range(0,self.size):\n",
    "            for j in range(0,self.size):\n",
    "                res.mat[i][j] = self.mat[j][i]\n",
    "        return res\n",
    "    def multiply(self,other):\n",
    "        res = Matrice([],self.size,self.modulo)\n",
    "        res.mat = copy.deepcopy(self.mat)\n",
    "        for i in range(0,self.size):\n",
    "            for j in range(0,self.size):\n",
    "                sum = 0\n",
    "                for h in range(0,self.size):\n",
    "                    sum+=self.mat[i][h]*other.mat[h][j]\n",
    "                res.mat[i][j]=sum%self.modulo\n",
    "        return res \n",
    "    \n",
    "    def scalar_multiply(self,scalar):\n",
    "        res = Matrice([],self.size,self.modulo)\n",
    "        res.mat = copy.deepcopy(self.mat)\n",
    "        for i in range(0,self.size):\n",
    "            for j in range(0,self.size):\n",
    "                res.mat[i][j] = (res.mat[i][j] * scalar) %self.modulo\n",
    "        return res    \n",
    "\n",
    "    def determinant(self):\n",
    "        if self.size==1:\n",
    "            return self.mat[0][0]%self.modulo\n",
    "        else:\n",
    "            sum = 0 \n",
    "            for i in range(0,self.size):\n",
    "                temp = Matrice([],self.size-1,self.modulo)\n",
    "                temp.mat = list(map(lambda x:x[0:i]+x[i+1:],copy.deepcopy(self.mat)[1:]))\n",
    "                sum+= self.mat[0][i]*pow(-1,1+i+1)*temp.determinant()\n",
    "            return sum %self.modulo\n",
    "\n",
    "    def adjuncta(self):\n",
    "        trans = self.transpose()\n",
    "        res = Matrice([],self.size,self.modulo)\n",
    "        res.mat = copy.deepcopy(self.mat)\n",
    "        for i in range(0,self.size):\n",
    "            for j in range(0,self.size):\n",
    "                temp = Matrice([],self.size-1,self.modulo)\n",
    "                temp.mat = list(map(lambda x:x[0:j]+x[j+1:],copy.deepcopy(trans.mat[0:i]+trans.mat[i+1:])))\n",
    "                res.mat[i][j] = (pow(-1,i+j+2) * temp.determinant())%self.modulo\n",
    "        return res \n",
    "    \n",
    "    def inversa(self):\n",
    "        return self.adjuncta().scalar_multiply(inversa_modulo(self.determinant(),self.modulo))\n",
    "\n",
    "        \n",
    "\n"
   ]
  },
  {
   "cell_type": "code",
   "execution_count": 22,
   "metadata": {},
   "outputs": [],
   "source": [
    "def matrix_encrypt(mat:Matrice,plaintext):\n",
    "    res = ''\n",
    "    for letter in plaintext:\n",
    "        if not letter == ' ':\n",
    "            res+=letter\n",
    "    if len(res)%mat.size!=0:\n",
    "        res+='X'*(mat.size-len(res)%mat.size)\n",
    "\n",
    "\n",
    "    res = list(map(lambda x:ord(x)-ord('A'),res))\n",
    "\n",
    "    cipher = []\n",
    "    for i in range(0,len(res),mat.size):\n",
    "        pt_chunk=res[i:i+mat.size]\n",
    "        ct_chunk=[]\n",
    "        for j in range(0,mat.size):\n",
    "            sum=0\n",
    "            for h in range(0,mat.size):\n",
    "                sum+=pt_chunk[h]*mat.mat[h][j]\n",
    "            sum = sum%mat.modulo\n",
    "            ct_chunk.append(sum)\n",
    "        cipher+=ct_chunk        \n",
    "\n",
    "    cipher = ''.join(list(map(lambda x:chr(x+ord('A')),cipher)))\n",
    "    return cipher\n",
    "\n",
    "def matrix_decipher(mat:Matrice,ciphertext):\n",
    "    return matrix_encrypt(mat.inversa(),ciphertext)\n"
   ]
  },
  {
   "cell_type": "code",
   "execution_count": 23,
   "metadata": {},
   "outputs": [
    {
     "data": {
      "text/plain": [
       "'GLFSSMPBDTHB'"
      ]
     },
     "execution_count": 23,
     "metadata": {},
     "output_type": "execute_result"
    }
   ],
   "source": [
    "matrix_decipher(Matrice(['H','U','D','F'],2,26),\"JESHB JJAZM TANCF VBJXX\")\n",
    "matrix_encrypt(Matrice(['J','B','V','I'],2,26),\"BLAZE OF GLORY\")"
   ]
  },
  {
   "cell_type": "markdown",
   "metadata": {},
   "source": [
    "Exercit¸iul 4.3.2 S˘a se cifreze mesajul:\n",
    "COMPLETE AND PROPER PACKAGE.\n",
    "Algoritmul utilizat este cifrul lui Hill, cheia de cifrare fiind matricea:\n",
    "µ\n",
    "N T\n",
    "C R ¶\n",
    ".\n"
   ]
  },
  {
   "cell_type": "code",
   "execution_count": 24,
   "metadata": {},
   "outputs": [
    {
     "data": {
      "text/plain": [
       "'CQEPVRVNANRAPPVPRGEIAIIA'"
      ]
     },
     "execution_count": 24,
     "metadata": {},
     "output_type": "execute_result"
    }
   ],
   "source": [
    "matrix_encrypt(Matrice(['N','T','C','R'],2,26),\"COMPLETEANDPROPERPACKAGE\")"
   ]
  },
  {
   "cell_type": "markdown",
   "metadata": {},
   "source": [
    "Exercit¸iul 4.3.3 S˘a se cifreze mesajul:\n",
    "ESOTERIC TOPIC OF RESEARCH.\n",
    "Algoritmul utilizat este cifrul lui Hill, cheia de cifrare fiind matricea"
   ]
  },
  {
   "cell_type": "code",
   "execution_count": 25,
   "metadata": {},
   "outputs": [
    {
     "data": {
      "text/plain": [
       "'ICYXCNUOZQLMIYDLICESDWPT'"
      ]
     },
     "execution_count": 25,
     "metadata": {},
     "output_type": "execute_result"
    }
   ],
   "source": [
    "\n",
    "matrix_encrypt(Matrice(['B','Y','G','P'],2,26),\"ESOTERIC TOPIC OF RESEARCH\")"
   ]
  },
  {
   "cell_type": "markdown",
   "metadata": {},
   "source": [
    "Exercit¸iul 4.3.4 S˘a se cifreze mesajul:\n",
    "BENJAMIN HARRISON.\n",
    "Algoritmul utilizat este cifrul lui Hill (3 × 3), cheia de cifrare fiind matricea:\n",
    "\n",
    "\n",
    "A B C\n",
    "B C A\n",
    "C A B\n",
    "\n",
    ""
   ]
  },
  {
   "cell_type": "code",
   "execution_count": 26,
   "metadata": {},
   "outputs": [
    {
     "data": {
      "text/plain": [
       "'EJPYJEBIXZIRUSERHX'"
      ]
     },
     "execution_count": 26,
     "metadata": {},
     "output_type": "execute_result"
    }
   ],
   "source": [
    "matrix_encrypt(Matrice(['A','B','C','B','C','A','C','A','B'],3,26),\"BENJAMIN HARRISON\")"
   ]
  },
  {
   "cell_type": "markdown",
   "metadata": {},
   "source": [
    "Exercit¸iul 4.3.5 S˘a se descifreze mesajul:\n",
    "ZKNAW NIOZO BRXSW QNNXX.\n",
    "Algoritmul utilizat este cifrul lui Hill (2 × 2), cheia de cifrare fiind matricea:\n",
    "µ\n",
    "B E\n",
    "V H ¶\n",
    "."
   ]
  },
  {
   "cell_type": "code",
   "execution_count": 27,
   "metadata": {},
   "outputs": [
    {
     "data": {
      "text/plain": [
       "'RONALDWILSONREAGANQJ'"
      ]
     },
     "execution_count": 27,
     "metadata": {},
     "output_type": "execute_result"
    }
   ],
   "source": [
    "matrix_decipher(Matrice(['B','E','V','H'],2,26),\"ZKNAW NIOZO BRXSW QNNXX\")"
   ]
  },
  {
   "cell_type": "markdown",
   "metadata": {},
   "source": [
    "Exercit¸iul 4.3.6 S˘a se descifreze mesajul:\n",
    "ZPXUB IRHNU VXWSP DJTNN.\n",
    "Algoritmul utilizat este cifrul lui Hill (2 × 2), cheia de cifrare fiind matricea:\n",
    "µ\n",
    "J D\n",
    "X C ¶\n",
    "."
   ]
  },
  {
   "cell_type": "code",
   "execution_count": 28,
   "metadata": {},
   "outputs": [
    {
     "data": {
      "text/plain": [
       "'RICHARDMILHOUSNIXONA'"
      ]
     },
     "execution_count": 28,
     "metadata": {},
     "output_type": "execute_result"
    }
   ],
   "source": [
    "matrix_decipher(Matrice(['J','D','X','C'],2,26),\"ZPXUB IRHNU VXWSP DJTNN\")"
   ]
  },
  {
   "cell_type": "markdown",
   "metadata": {},
   "source": [
    "Exercit¸iul 4.3.7 S˘a se descifreze mesajul:\n",
    "EJPYJ EBIXZ IRUSE ANA.\n",
    "Algoritmul utilizat la cifrare este cifrul lui Hill (3 × 3), cheia de cifrare fiind matricea:\n",
    "\n",
    "\n",
    "A B C\n",
    "B C A\n",
    "C A B\n",
    "\n",
    " ."
   ]
  },
  {
   "cell_type": "code",
   "execution_count": 29,
   "metadata": {},
   "outputs": [
    {
     "data": {
      "text/plain": [
       "'BENJAMINHARRISONAA'"
      ]
     },
     "execution_count": 29,
     "metadata": {},
     "output_type": "execute_result"
    }
   ],
   "source": [
    "matrix_decipher(Matrice(['A','B','C','B','C','A','C','A','B'],3,26),\"EJPYJ EBIXZ IRUSE ANA\")"
   ]
  },
  {
   "cell_type": "markdown",
   "metadata": {},
   "source": [
    "Exercit¸iul 4.3.8 S˘a se descifreze mesajul:\n",
    "NYNAF JUWBL ZXANM NGLEI JQWF\n",
    "Algoritmul utilizat este cifrul lui Hill, cheia de cifrare fiind matricea:\n",
    "µ\n",
    "J S\n",
    "W V ¶\n",
    "."
   ]
  },
  {
   "cell_type": "code",
   "execution_count": 30,
   "metadata": {},
   "outputs": [
    {
     "data": {
      "text/plain": [
       "'FINALROUNDTRANSFORMATION'"
      ]
     },
     "execution_count": 30,
     "metadata": {},
     "output_type": "execute_result"
    }
   ],
   "source": [
    "matrix_decipher(Matrice(['J','S','W','V'],2,26),\"NYNAF JUWBL ZXANM NGLEI JQWF\")"
   ]
  },
  {
   "cell_type": "markdown",
   "metadata": {},
   "source": [
    "Exercit¸iul 4.3.9 S˘a se descifreze mesajul:\n",
    "NKTNM QZQEY WVDIA CIGMG.\n",
    "Algoritmul utilizat este cifrul lui Hill, cheia de cifrare fiind matricea:\n",
    "µ\n",
    "D I\n",
    "K B ¶\n"
   ]
  },
  {
   "cell_type": "code",
   "execution_count": 31,
   "metadata": {},
   "outputs": [
    {
     "data": {
      "text/plain": [
       "'RETRIEVEYOURBAGGAGEA'"
      ]
     },
     "execution_count": 31,
     "metadata": {},
     "output_type": "execute_result"
    }
   ],
   "source": [
    "matrix_decipher(Matrice(['D','I','K','B'],2,26),\"NKTNM QZQEY WVDIA CIGMG\")"
   ]
  },
  {
   "cell_type": "markdown",
   "metadata": {},
   "source": [
    "Exercit¸iul 4.3.11 S˘a se cifreze mesajul:\n",
    "OPERATIONAL RESEARCH.\n",
    "Algoritmul utilizat este cifrul lui Hill, cheia de cifrare fiind matricea:\n",
    "µ\n",
    "F H\n",
    "H I "
   ]
  },
  {
   "cell_type": "code",
   "execution_count": 32,
   "metadata": {},
   "outputs": [
    {
     "data": {
      "text/plain": [
       "'TKJIDWIMNNSFQQUCVFOZ'"
      ]
     },
     "execution_count": 32,
     "metadata": {},
     "output_type": "execute_result"
    }
   ],
   "source": [
    "matrix_encrypt(Matrice(['F','H','H','I'],2,26),\"OPERATIONAL RESEARCH\")"
   ]
  },
  {
   "cell_type": "markdown",
   "metadata": {},
   "source": [
    "Exercit¸iul 4.3.12 S˘a se descifreze mesajul:\n",
    "TKJID WIMNN SFQQU CVFLD.\n",
    "Algoritmul utilizat este cifrul lui Hill, cheia de cifrare fiind matricea:\n",
    "µ\n",
    "F H\n",
    "H I ¶\n",
    "."
   ]
  },
  {
   "cell_type": "code",
   "execution_count": 33,
   "metadata": {},
   "outputs": [
    {
     "data": {
      "text/plain": [
       "'OPERATIONALRESEARCHE'"
      ]
     },
     "execution_count": 33,
     "metadata": {},
     "output_type": "execute_result"
    }
   ],
   "source": [
    "matrix_decipher(Matrice(['F','H','H','I'],2,26),\"TKJID WIMNN SFQQU CVFLD\")"
   ]
  },
  {
   "cell_type": "markdown",
   "metadata": {},
   "source": [
    "Exercit¸iul 4.3.13 S˘a se cifreze mesajul:\n",
    "CRYPTOLOGY.\n",
    "Algoritmul utilizat este cifrul lui Hill, cheia de cifrare fiind matricea:\n",
    "µ\n",
    "T E\n",
    "S T ¶\n",
    "."
   ]
  },
  {
   "cell_type": "code",
   "execution_count": 34,
   "metadata": {},
   "outputs": [
    {
     "data": {
      "text/plain": [
       "'CRYPTOLOGY'"
      ]
     },
     "execution_count": 34,
     "metadata": {},
     "output_type": "execute_result"
    }
   ],
   "source": [
    "matrix_encrypt(Matrice(['T','E','S','T'],2,26),\"CRYPTOLOGY\")\n",
    "matrix_decipher(Matrice(['T','E','S','T'],2,26),\"GTYRPETYAM\")"
   ]
  },
  {
   "cell_type": "markdown",
   "metadata": {},
   "source": [
    "Exercit¸iul 4.3.14 S˘a se cifreze mesajul:\n",
    "NAVAJO CODE.\n",
    "Algoritmul utilizat este cifrul lui Hill, cheia de cifrare fiind matricea:\n",
    "µ\n",
    "L Q\n",
    "L J ¶\n",
    "."
   ]
  },
  {
   "cell_type": "code",
   "execution_count": 35,
   "metadata": {},
   "outputs": [
    {
     "data": {
      "text/plain": [
       "'NAXYTKUCZG'"
      ]
     },
     "execution_count": 35,
     "metadata": {},
     "output_type": "execute_result"
    }
   ],
   "source": [
    "matrix_encrypt(Matrice(['L','Q','L','J'],2,26),\"NAVAJO CODE\")"
   ]
  },
  {
   "cell_type": "markdown",
   "metadata": {},
   "source": [
    "Exercit¸iul 4.3.15 S˘a se descifreze mesajul:\n",
    "CVWPB KFWCS.\n",
    "Algoritmul utilizat este cifrul lui Hill, cheia de cifrare fiind matricea:\n",
    "µ\n",
    "T E\n",
    "S T ¶\n",
    "."
   ]
  },
  {
   "cell_type": "code",
   "execution_count": 36,
   "metadata": {},
   "outputs": [
    {
     "data": {
      "text/plain": [
       "'CRYPTOLOGY'"
      ]
     },
     "execution_count": 36,
     "metadata": {},
     "output_type": "execute_result"
    }
   ],
   "source": [
    "matrix_decipher(Matrice(['T','E','S','T'],2,26),\"GTYRPETYAM\")"
   ]
  },
  {
   "cell_type": "markdown",
   "metadata": {},
   "source": [
    "Exercit¸iul 4.3.16 S˘a se descifreze mesajul:\n",
    "NNXXL RMSTR.\n",
    "Algoritmul utilizat este cifrul lui Hill, cheia de cifrare fiind matricea:\n",
    "µ\n",
    "L Q\n",
    "L J ¶\n",
    "."
   ]
  },
  {
   "cell_type": "code",
   "execution_count": 37,
   "metadata": {},
   "outputs": [
    {
     "data": {
      "text/plain": [
       "'NAVAJOCODE'"
      ]
     },
     "execution_count": 37,
     "metadata": {},
     "output_type": "execute_result"
    }
   ],
   "source": [
    "matrix_decipher(Matrice(['L','Q','L','J'],2,26),\"NAXYTKUCZG\")"
   ]
  }
 ],
 "metadata": {
  "kernelspec": {
   "display_name": "Python 3",
   "language": "python",
   "name": "python3"
  },
  "language_info": {
   "codemirror_mode": {
    "name": "ipython",
    "version": 3
   },
   "file_extension": ".py",
   "mimetype": "text/x-python",
   "name": "python",
   "nbconvert_exporter": "python",
   "pygments_lexer": "ipython3",
   "version": "3.11.6"
  }
 },
 "nbformat": 4,
 "nbformat_minor": 2
}
