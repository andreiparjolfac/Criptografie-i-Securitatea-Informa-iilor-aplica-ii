{
 "cells": [
  {
   "cell_type": "code",
   "execution_count": 59,
   "metadata": {},
   "outputs": [],
   "source": [
    "class Vigenere:\n",
    "    def __init__(self,password):\n",
    "        self.password = list(map(lambda x:ord(x)-ord('A'),password))\n",
    "        self.passlength = len(self.password)\n",
    "\n",
    "    def encrypt(self,plaintext):\n",
    "        ciphertext=''\n",
    "        plaintext = list(filter(lambda x:x!=' ',plaintext))\n",
    "        for i in range(0,len(plaintext)):\n",
    "            ciphertext+=chr( (ord(plaintext[i])-ord('A') + self.password[i%self.passlength])%26 + ord('A') )\n",
    "        return ciphertext\n",
    "    \n",
    "    def decipher(self,ciphertext):\n",
    "        plaintext=''\n",
    "        ciphertext = list(filter(lambda x:x!=' ',ciphertext))\n",
    "        for i in range(0,len(ciphertext)):\n",
    "            plaintext+=chr( (ord(ciphertext[i])-ord('A') - self.password[i%self.passlength])%26 + ord('A') )\n",
    "        return plaintext"
   ]
  },
  {
   "cell_type": "code",
   "execution_count": 60,
   "metadata": {},
   "outputs": [
    {
     "name": "stdout",
     "output_type": "stream",
     "text": [
      "THEODOREROOSEVELT\n"
     ]
    }
   ],
   "source": [
    "vig1 = Vigenere(\"PASSWORD\")\n",
    "print(vig1.decipher(\"IHWGZ CIHGO GKAJV OI\"))"
   ]
  },
  {
   "cell_type": "markdown",
   "metadata": {},
   "source": [
    "Exercit¸iul 5.3.1 S˘a se cifreze mesajul OPTIMISTIC cu ajutorul algoritmului Vigen`ere,\n",
    "folosind parola GOODDAYS."
   ]
  },
  {
   "cell_type": "code",
   "execution_count": 61,
   "metadata": {},
   "outputs": [
    {
     "name": "stdout",
     "output_type": "stream",
     "text": [
      "UDHLPIQLOQ\n"
     ]
    }
   ],
   "source": [
    "vig = Vigenere(\"GOODDAYS\")\n",
    "print(vig.encrypt(\"OPTIMISTIC\"))"
   ]
  },
  {
   "cell_type": "markdown",
   "metadata": {},
   "source": [
    "Exercit¸iul 5.3.2 S˘a se cifreze mesajul THANK YOU cu ajutorul algoritmului Vigen`ere,\n",
    "folosind parola POLITE"
   ]
  },
  {
   "cell_type": "code",
   "execution_count": 62,
   "metadata": {},
   "outputs": [
    {
     "name": "stdout",
     "output_type": "stream",
     "text": [
      "IVLVDCDI\n"
     ]
    }
   ],
   "source": [
    "vig = Vigenere(\"POLITE\")\n",
    "print(vig.encrypt(\"THANK YOU\"))"
   ]
  },
  {
   "cell_type": "markdown",
   "metadata": {},
   "source": [
    "Exercit¸iul 5.3.3 S˘a se cifreze mesajul GOING BACK IN TIME cu ajutorul algoritmului\n",
    "Vigen`ere, folosind parola MEMORY.\n"
   ]
  },
  {
   "cell_type": "code",
   "execution_count": 63,
   "metadata": {},
   "outputs": [
    {
     "name": "stdout",
     "output_type": "stream",
     "text": [
      "SSUBXZMGWWERUQQ\n"
     ]
    }
   ],
   "source": [
    "vig = Vigenere(\"MEMORY\")\n",
    "print(vig.encrypt(\"GOING BACK IN TIME\"))"
   ]
  },
  {
   "cell_type": "markdown",
   "metadata": {},
   "source": [
    "Exercit¸iul 5.3.4 S˘a se cifreze mesajul FAST CARS cu ajutorul algoritmului Vigen`ere,\n",
    "folosind parola RADAR."
   ]
  },
  {
   "cell_type": "code",
   "execution_count": 64,
   "metadata": {},
   "outputs": [
    {
     "name": "stdout",
     "output_type": "stream",
     "text": [
      "WAVTTRRV\n"
     ]
    }
   ],
   "source": [
    "vig = Vigenere(\"RADAR\")\n",
    "print(vig.encrypt(\"FAST CARS\"))"
   ]
  },
  {
   "cell_type": "markdown",
   "metadata": {},
   "source": [
    "Exercit¸iul 5.3.5 S˘a se cifreze mesajul SUITCASE cu ajutorul algoritmului Vigen`ere, folosind\n",
    "parola TRIP."
   ]
  },
  {
   "cell_type": "code",
   "execution_count": 65,
   "metadata": {},
   "outputs": [
    {
     "name": "stdout",
     "output_type": "stream",
     "text": [
      "LLQIVRAT\n"
     ]
    }
   ],
   "source": [
    "vig = Vigenere(\"TRIP\")\n",
    "print(vig.encrypt(\"SUITCASE\"))"
   ]
  },
  {
   "cell_type": "markdown",
   "metadata": {},
   "source": [
    "Exercit¸iul 5.3.6 S˘a se descifreze mesajul WIUXGHG WXGALFYK ¸stiind c˘a a fost cifrat\n",
    "cu ajutorul algoritmului Vigen`ere, parola fiind TEST.\n"
   ]
  },
  {
   "cell_type": "code",
   "execution_count": 66,
   "metadata": {},
   "outputs": [
    {
     "name": "stdout",
     "output_type": "stream",
     "text": [
      "DECENDODECISMUS\n"
     ]
    }
   ],
   "source": [
    "vig = Vigenere(\"TEST\")\n",
    "print(vig.decipher(\"WIUXGHG WXGALFYK\"))"
   ]
  },
  {
   "cell_type": "markdown",
   "metadata": {},
   "source": [
    "Exercit¸iul 5.3.7 S˘a se descifreze mesajul UAEGQD OOGAT ¸stiind c˘a a fost cifrat cu\n",
    "ajutorul algoritmului Vigen`ere, parola fiind TANGO.\n"
   ]
  },
  {
   "cell_type": "code",
   "execution_count": 67,
   "metadata": {},
   "outputs": [
    {
     "name": "stdout",
     "output_type": "stream",
     "text": [
      "BARACKOBAMA\n"
     ]
    }
   ],
   "source": [
    "vig = Vigenere(\"TANGO\")\n",
    "print(vig.decipher(\"UAEGQD OOGAT\"))"
   ]
  },
  {
   "cell_type": "markdown",
   "metadata": {},
   "source": [
    "Exercit¸iul 5.3.8 S˘a se descifreze mesajul XVLGM OXLDC ¸stiind c˘a a fost cifrat cu ajutorul algoritmului Vigen`ere, parola fiind BRIDE.\n"
   ]
  },
  {
   "cell_type": "code",
   "execution_count": 68,
   "metadata": {},
   "outputs": [
    {
     "name": "stdout",
     "output_type": "stream",
     "text": [
      "WEDDINGDAY\n"
     ]
    }
   ],
   "source": [
    "vig = Vigenere(\"BRIDE\")\n",
    "print(vig.decipher(\"XVLGM OXLDC\"))"
   ]
  },
  {
   "cell_type": "markdown",
   "metadata": {},
   "source": [
    "Exercit¸iul 5.3.9 S˘a se descifreze mesajul IHZSV SKIEE CHWPU ACSH ¸stiind c˘a a fost\n",
    "cifrat cu ajutorul algoritmului Vigen`ere, parola fiind PARADOX.\n"
   ]
  },
  {
   "cell_type": "code",
   "execution_count": 69,
   "metadata": {},
   "outputs": [
    {
     "name": "stdout",
     "output_type": "stream",
     "text": [
      "THISSENTENCEISFALSE\n"
     ]
    }
   ],
   "source": [
    "vig = Vigenere(\"PARADOX\")\n",
    "print(vig.decipher(\"IHZSV SKIEE CHWPU ACSH\"))"
   ]
  },
  {
   "cell_type": "markdown",
   "metadata": {},
   "source": [
    "Exercit¸iul 5.3.10 S˘a se descifreze mesajul MYEYS VOJFQ ZAVLL N ¸stiind c˘a a fost\n",
    "cifrat cu ajutorul algoritmului Vigen`ere, parola fiind TRANSILVANIA.\n"
   ]
  },
  {
   "cell_type": "code",
   "execution_count": 70,
   "metadata": {},
   "outputs": [
    {
     "name": "stdout",
     "output_type": "stream",
     "text": [
      "THELANDOFDRACULA\n"
     ]
    }
   ],
   "source": [
    "vig = Vigenere(\"TRANSILVANIA\")\n",
    "print(vig.decipher(\"MYEYS VOJFQ ZAVLL N\"))"
   ]
  },
  {
   "cell_type": "markdown",
   "metadata": {},
   "source": [
    "Exercit¸iul 5.3.11 S˘a se cifreze mesajul OPERATIONAL RESEARCH cu ajutorul algoritmului Vigen`ere, folosind parola PASSWORD.\n"
   ]
  },
  {
   "cell_type": "code",
   "execution_count": 71,
   "metadata": {},
   "outputs": [
    {
     "name": "stdout",
     "output_type": "stream",
     "text": [
      "DPWJWHZRCADJAGVDGCZ\n"
     ]
    }
   ],
   "source": [
    "vig = Vigenere(\"PASSWORD\")\n",
    "print(vig.encrypt(\"OPERATIONAL RESEARCH\"))"
   ]
  },
  {
   "cell_type": "markdown",
   "metadata": {},
   "source": [
    "Exercit¸iul 5.3.12 S˘a se descifreze mesajul DPWJW HZRCA DJAGV DGCZ ¸stiind c˘a a\n",
    "fost cifrat cu ajutorul algoritmului Vigen`ere, parola fiind PASSWORD."
   ]
  },
  {
   "cell_type": "code",
   "execution_count": 72,
   "metadata": {},
   "outputs": [
    {
     "name": "stdout",
     "output_type": "stream",
     "text": [
      "OPERATIONALRESEARCH\n"
     ]
    }
   ],
   "source": [
    "vig = Vigenere(\"PASSWORD\")\n",
    "print(vig.decipher(\" DPWJW HZRCA DJAGV DGCZ\"))"
   ]
  },
  {
   "cell_type": "markdown",
   "metadata": {},
   "source": [
    "Exercit¸iul 5.3.13 S˘a se cifreze mesajul CRIPTOGRAFIE cu ajutorul algoritmului Vigen`ere, folosind parola TEST."
   ]
  },
  {
   "cell_type": "code",
   "execution_count": 73,
   "metadata": {},
   "outputs": [
    {
     "name": "stdout",
     "output_type": "stream",
     "text": [
      "VVAIMSYKTJAX\n"
     ]
    }
   ],
   "source": [
    "vig = Vigenere(\"TEST\")\n",
    "print(vig.encrypt(\" CRIPTOGRAFIE \"))"
   ]
  },
  {
   "cell_type": "markdown",
   "metadata": {},
   "source": [
    "Exercit¸iul 5.3.14 S˘a se descifreze mesajul VVAI MSYK TJAX ¸stiind c˘a a fost cifrat cu\n",
    "ajutorul algoritmului Vigen`ere, parola fiind TEST.\n"
   ]
  },
  {
   "cell_type": "code",
   "execution_count": 74,
   "metadata": {},
   "outputs": [
    {
     "name": "stdout",
     "output_type": "stream",
     "text": [
      "CRIPTOGRAFIE\n"
     ]
    }
   ],
   "source": [
    "vig = Vigenere(\"TEST\")\n",
    "print(vig.decipher(\"VVAI MSYK TJAX\"))"
   ]
  }
 ],
 "metadata": {
  "kernelspec": {
   "display_name": "Python 3",
   "language": "python",
   "name": "python3"
  },
  "language_info": {
   "codemirror_mode": {
    "name": "ipython",
    "version": 3
   },
   "file_extension": ".py",
   "mimetype": "text/x-python",
   "name": "python",
   "nbconvert_exporter": "python",
   "pygments_lexer": "ipython3",
   "version": "3.10.4"
  }
 },
 "nbformat": 4,
 "nbformat_minor": 2
}
