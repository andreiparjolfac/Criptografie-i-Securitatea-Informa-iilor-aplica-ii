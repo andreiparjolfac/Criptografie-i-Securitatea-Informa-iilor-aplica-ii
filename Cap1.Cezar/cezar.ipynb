{
 "cells": [
  {
   "cell_type": "code",
   "execution_count": 43,
   "metadata": {},
   "outputs": [],
   "source": [
    "#Exercitii Propuse 1.3\n",
    "\n",
    "def encrypt_cezar(key,plaintext):\n",
    "    plaintext = plaintext.lower()\n",
    "    ciphertext = \"\"\n",
    "\n",
    "    for letter in plaintext:\n",
    "        if not (ord(letter)>=ord('a') and ord (letter) <= ord('z')):\n",
    "            ciphertext+=' '\n",
    "            continue\n",
    "        x = ord(letter) - ord('a')\n",
    "        x = chr((x+key) % 26 + ord('a'))\n",
    "        ciphertext +=x \n",
    "\n",
    "    print(\"key: \"+str(key)+\" \"+ciphertext.upper())\n",
    "\n",
    "def decipher_cezar(key,ciphertext):\n",
    "    encrypt_cezar(-key,ciphertext)\n",
    "\n",
    "def brute_f_cezar_decryptor(ciphertext):\n",
    "    for key in range(0,26):\n",
    "        encrypt_cezar(key,ciphertext)"
   ]
  },
  {
   "cell_type": "markdown",
   "metadata": {},
   "source": [
    "1.3.2 Sa se cifreze mesajul \"MIRACLE\" algoritmul utilizat fiind cifrul lui Cezar , cheia de cifrare k=3\n"
   ]
  },
  {
   "cell_type": "code",
   "execution_count": 44,
   "metadata": {},
   "outputs": [
    {
     "name": "stdout",
     "output_type": "stream",
     "text": [
      "key: 3 PLUDFOH\n"
     ]
    }
   ],
   "source": [
    "encrypt_cezar(3,\"MIRACLE\")"
   ]
  },
  {
   "cell_type": "markdown",
   "metadata": {},
   "source": [
    "Exercit¸iul 1.3.3 S˘a se cifreze mesajul:\n",
    "CALCULATOR\n",
    "algoritmul utilizat fiind cifrul lui Cezar, cheia de cifrare k = 11."
   ]
  },
  {
   "cell_type": "code",
   "execution_count": 45,
   "metadata": {},
   "outputs": [
    {
     "name": "stdout",
     "output_type": "stream",
     "text": [
      "key: 11 NLWNFWLEZC\n"
     ]
    }
   ],
   "source": [
    "encrypt_cezar(11,\"CALCULATOR\")"
   ]
  },
  {
   "cell_type": "markdown",
   "metadata": {},
   "source": [
    "Exercit¸iul 1.3.4 S˘a se cifreze mesajul:\n",
    "ELECTRONIC MAIL\n",
    "algoritmul utilizat fiind cifrul lui Cezar, cheia de cifrare k = 5."
   ]
  },
  {
   "cell_type": "code",
   "execution_count": 46,
   "metadata": {},
   "outputs": [
    {
     "name": "stdout",
     "output_type": "stream",
     "text": [
      "key: 5 JQJHYWTSNH RFNQ\n"
     ]
    }
   ],
   "source": [
    "encrypt_cezar(5,\"ELECTRONIC MAIL\")"
   ]
  },
  {
   "cell_type": "markdown",
   "metadata": {},
   "source": [
    "Exercit¸iul 1.3.5 S˘a se cifreze mesajul:\n",
    "DIGITAL SIGNATURE\n",
    "algoritmul utilizat fiind cifrul lui Cezar, cheia de cifrare k = 2"
   ]
  },
  {
   "cell_type": "code",
   "execution_count": 47,
   "metadata": {},
   "outputs": [
    {
     "name": "stdout",
     "output_type": "stream",
     "text": [
      "key: 2 FKIKVCN UKIPCVWTG\n"
     ]
    }
   ],
   "source": [
    "encrypt_cezar(2,\"DIGITAL SIGNATURE\")"
   ]
  },
  {
   "cell_type": "markdown",
   "metadata": {},
   "source": [
    "Exercit¸iul 1.3.6 S˘a se decripteze mesajul:\n",
    "IGQTI GYCUJ KPIVQ PXXXX\n",
    "algoritmul utilizat fiind cifrul lui Cezar. Indicat¸i cheia de cifrare."
   ]
  },
  {
   "cell_type": "code",
   "execution_count": 48,
   "metadata": {},
   "outputs": [
    {
     "name": "stdout",
     "output_type": "stream",
     "text": [
      "key: 0 IGQTI GYCUJ KPIVQ PXXXX\n",
      "key: 1 JHRUJ HZDVK LQJWR QYYYY\n",
      "key: 2 KISVK IAEWL MRKXS RZZZZ\n",
      "key: 3 LJTWL JBFXM NSLYT SAAAA\n",
      "key: 4 MKUXM KCGYN OTMZU TBBBB\n",
      "key: 5 NLVYN LDHZO PUNAV UCCCC\n",
      "key: 6 OMWZO MEIAP QVOBW VDDDD\n",
      "key: 7 PNXAP NFJBQ RWPCX WEEEE\n",
      "key: 8 QOYBQ OGKCR SXQDY XFFFF\n",
      "key: 9 RPZCR PHLDS TYREZ YGGGG\n",
      "key: 10 SQADS QIMET UZSFA ZHHHH\n",
      "key: 11 TRBET RJNFU VATGB AIIII\n",
      "key: 12 USCFU SKOGV WBUHC BJJJJ\n",
      "key: 13 VTDGV TLPHW XCVID CKKKK\n",
      "key: 14 WUEHW UMQIX YDWJE DLLLL\n",
      "key: 15 XVFIX VNRJY ZEXKF EMMMM\n",
      "key: 16 YWGJY WOSKZ AFYLG FNNNN\n",
      "key: 17 ZXHKZ XPTLA BGZMH GOOOO\n",
      "key: 18 AYILA YQUMB CHANI HPPPP\n",
      "key: 19 BZJMB ZRVNC DIBOJ IQQQQ\n",
      "key: 20 CAKNC ASWOD EJCPK JRRRR\n",
      "key: 21 DBLOD BTXPE FKDQL KSSSS\n",
      "key: 22 ECMPE CUYQF GLERM LTTTT\n",
      "key: 23 FDNQF DVZRG HMFSN MUUUU\n",
      "key: 24 GEORG EWASH INGTO NVVVV\n",
      "key: 25 HFPSH FXBTI JOHUP OWWWW\n"
     ]
    }
   ],
   "source": [
    "brute_f_cezar_decryptor(\"IGQTI GYCUJ KPIVQ PXXXX\")\n",
    "#cheia folosita k este -2 sau 24 key: 24 GEORG EWASH INGTO NVVVV"
   ]
  },
  {
   "cell_type": "markdown",
   "metadata": {},
   "source": [
    "Exercit¸iul 1.3.7 S˘a se decripteze mesajul:\n",
    "UIPNB TKFGG FSTPO\n",
    "algoritmul utilizat fiind cifrul lui Cezar. Indicat¸i cheia de cifrare.\n"
   ]
  },
  {
   "cell_type": "code",
   "execution_count": 49,
   "metadata": {},
   "outputs": [
    {
     "name": "stdout",
     "output_type": "stream",
     "text": [
      "key: 0 UIPNB TKFGG FSTPO\n",
      "key: 1 VJQOC ULGHH GTUQP\n",
      "key: 2 WKRPD VMHII HUVRQ\n",
      "key: 3 XLSQE WNIJJ IVWSR\n",
      "key: 4 YMTRF XOJKK JWXTS\n",
      "key: 5 ZNUSG YPKLL KXYUT\n",
      "key: 6 AOVTH ZQLMM LYZVU\n",
      "key: 7 BPWUI ARMNN MZAWV\n",
      "key: 8 CQXVJ BSNOO NABXW\n",
      "key: 9 DRYWK CTOPP OBCYX\n",
      "key: 10 ESZXL DUPQQ PCDZY\n",
      "key: 11 FTAYM EVQRR QDEAZ\n",
      "key: 12 GUBZN FWRSS REFBA\n",
      "key: 13 HVCAO GXSTT SFGCB\n",
      "key: 14 IWDBP HYTUU TGHDC\n",
      "key: 15 JXECQ IZUVV UHIED\n",
      "key: 16 KYFDR JAVWW VIJFE\n",
      "key: 17 LZGES KBWXX WJKGF\n",
      "key: 18 MAHFT LCXYY XKLHG\n",
      "key: 19 NBIGU MDYZZ YLMIH\n",
      "key: 20 OCJHV NEZAA ZMNJI\n",
      "key: 21 PDKIW OFABB ANOKJ\n",
      "key: 22 QELJX PGBCC BOPLK\n",
      "key: 23 RFMKY QHCDD CPQML\n",
      "key: 24 SGNLZ RIDEE DQRNM\n",
      "key: 25 THOMA SJEFF ERSON\n"
     ]
    }
   ],
   "source": [
    "brute_f_cezar_decryptor(\"UIPNB TKFGG FSTPO\")\n",
    "#cheia folosita k este -1 sau 25 key: 25 THOMA SJEFF ERSON\n"
   ]
  },
  {
   "cell_type": "markdown",
   "metadata": {},
   "source": [
    "Exercit¸iul 1.3.8 S˘a se decripteze mesajul:\n",
    "AREYY KYYOS VYUTM XGTZ\n",
    "algoritmul utilizat fiind cifrul lui Cezar. Indicat¸i cheia de cifrare."
   ]
  },
  {
   "cell_type": "code",
   "execution_count": 50,
   "metadata": {},
   "outputs": [
    {
     "name": "stdout",
     "output_type": "stream",
     "text": [
      "key: 0 AREYY KYYOS VYUTM XGTZ\n",
      "key: 1 BSFZZ LZZPT WZVUN YHUA\n",
      "key: 2 CTGAA MAAQU XAWVO ZIVB\n",
      "key: 3 DUHBB NBBRV YBXWP AJWC\n",
      "key: 4 EVICC OCCSW ZCYXQ BKXD\n",
      "key: 5 FWJDD PDDTX ADZYR CLYE\n",
      "key: 6 GXKEE QEEUY BEAZS DMZF\n",
      "key: 7 HYLFF RFFVZ CFBAT ENAG\n",
      "key: 8 IZMGG SGGWA DGCBU FOBH\n",
      "key: 9 JANHH THHXB EHDCV GPCI\n",
      "key: 10 KBOII UIIYC FIEDW HQDJ\n",
      "key: 11 LCPJJ VJJZD GJFEX IREK\n",
      "key: 12 MDQKK WKKAE HKGFY JSFL\n",
      "key: 13 NERLL XLLBF ILHGZ KTGM\n",
      "key: 14 OFSMM YMMCG JMIHA LUHN\n",
      "key: 15 PGTNN ZNNDH KNJIB MVIO\n",
      "key: 16 QHUOO AOOEI LOKJC NWJP\n",
      "key: 17 RIVPP BPPFJ MPLKD OXKQ\n",
      "key: 18 SJWQQ CQQGK NQMLE PYLR\n",
      "key: 19 TKXRR DRRHL ORNMF QZMS\n",
      "key: 20 ULYSS ESSIM PSONG RANT\n",
      "key: 21 VMZTT FTTJN QTPOH SBOU\n",
      "key: 22 WNAUU GUUKO RUQPI TCPV\n",
      "key: 23 XOBVV HVVLP SVRQJ UDQW\n",
      "key: 24 YPCWW IWWMQ TWSRK VERX\n",
      "key: 25 ZQDXX JXXNR UXTSL WFSY\n"
     ]
    }
   ],
   "source": [
    "brute_f_cezar_decryptor(\"AREYY KYYOS VYUTM XGTZ\")\n",
    "#cheia folosita k este -6 sau 20 key: 20 ULYSS ESSIM PSONG RANT"
   ]
  },
  {
   "cell_type": "markdown",
   "metadata": {},
   "source": [
    "Exercit¸iul 1.3.9 S˘a se decripteze mesajul:\n",
    "CDTC JCON KPEQ NP\n",
    "algoritmul utilizat fiind cifrul lui Cezar. Indicat¸i cheia de cifrare."
   ]
  },
  {
   "cell_type": "code",
   "execution_count": 51,
   "metadata": {},
   "outputs": [
    {
     "name": "stdout",
     "output_type": "stream",
     "text": [
      "key: 0 CDTC JCON KPEQ NP\n",
      "key: 1 DEUD KDPO LQFR OQ\n",
      "key: 2 EFVE LEQP MRGS PR\n",
      "key: 3 FGWF MFRQ NSHT QS\n",
      "key: 4 GHXG NGSR OTIU RT\n",
      "key: 5 HIYH OHTS PUJV SU\n",
      "key: 6 IJZI PIUT QVKW TV\n",
      "key: 7 JKAJ QJVU RWLX UW\n",
      "key: 8 KLBK RKWV SXMY VX\n",
      "key: 9 LMCL SLXW TYNZ WY\n",
      "key: 10 MNDM TMYX UZOA XZ\n",
      "key: 11 NOEN UNZY VAPB YA\n",
      "key: 12 OPFO VOAZ WBQC ZB\n",
      "key: 13 PQGP WPBA XCRD AC\n",
      "key: 14 QRHQ XQCB YDSE BD\n",
      "key: 15 RSIR YRDC ZETF CE\n",
      "key: 16 STJS ZSED AFUG DF\n",
      "key: 17 TUKT ATFE BGVH EG\n",
      "key: 18 UVLU BUGF CHWI FH\n",
      "key: 19 VWMV CVHG DIXJ GI\n",
      "key: 20 WXNW DWIH EJYK HJ\n",
      "key: 21 XYOX EXJI FKZL IK\n",
      "key: 22 YZPY FYKJ GLAM JL\n",
      "key: 23 ZAQZ GZLK HMBN KM\n",
      "key: 24 ABRA HAML INCO LN\n",
      "key: 25 BCSB IBNM JODP MO\n"
     ]
    }
   ],
   "source": [
    "brute_f_cezar_decryptor(\"CDTC JCON KPEQ NP\")\n",
    "#cheia folosita k este -2 sau 24 key: 24 ABRA HAML INCO LN"
   ]
  },
  {
   "cell_type": "markdown",
   "metadata": {},
   "source": [
    "Exercit¸iul 1.3.10 S˘a se decripteze mesajul:\n",
    "ECFDEPO ALCEJ\n",
    "algoritmul utilizat fiind cifrul lui Cezar. Indicat¸i cheia de cifrare."
   ]
  },
  {
   "cell_type": "code",
   "execution_count": 52,
   "metadata": {},
   "outputs": [
    {
     "name": "stdout",
     "output_type": "stream",
     "text": [
      "key: 0 ECFDEPO ALCEJ\n",
      "key: 1 FDGEFQP BMDFK\n",
      "key: 2 GEHFGRQ CNEGL\n",
      "key: 3 HFIGHSR DOFHM\n",
      "key: 4 IGJHITS EPGIN\n",
      "key: 5 JHKIJUT FQHJO\n",
      "key: 6 KILJKVU GRIKP\n",
      "key: 7 LJMKLWV HSJLQ\n",
      "key: 8 MKNLMXW ITKMR\n",
      "key: 9 NLOMNYX JULNS\n",
      "key: 10 OMPNOZY KVMOT\n",
      "key: 11 PNQOPAZ LWNPU\n",
      "key: 12 QORPQBA MXOQV\n",
      "key: 13 RPSQRCB NYPRW\n",
      "key: 14 SQTRSDC OZQSX\n",
      "key: 15 TRUSTED PARTY\n",
      "key: 16 USVTUFE QBSUZ\n",
      "key: 17 VTWUVGF RCTVA\n",
      "key: 18 WUXVWHG SDUWB\n",
      "key: 19 XVYWXIH TEVXC\n",
      "key: 20 YWZXYJI UFWYD\n",
      "key: 21 ZXAYZKJ VGXZE\n",
      "key: 22 AYBZALK WHYAF\n",
      "key: 23 BZCABML XIZBG\n",
      "key: 24 CADBCNM YJACH\n",
      "key: 25 DBECDON ZKBDI\n"
     ]
    }
   ],
   "source": [
    "brute_f_cezar_decryptor(\"ECFDEPO ALCEJ\")\n",
    "#cheia folosita k  este -11 sau 15 key: 15 TRUSTED PARTY"
   ]
  },
  {
   "cell_type": "markdown",
   "metadata": {},
   "source": [
    "Exercit¸iul 1.3.11 S˘a se cifreze mesajul:\n",
    "EXAMEN CRIPTOGRAFIE\n",
    "algoritmul utilizat fiind cifrul lui Cezar, cheia de cifrare k = 3."
   ]
  },
  {
   "cell_type": "code",
   "execution_count": 53,
   "metadata": {},
   "outputs": [
    {
     "name": "stdout",
     "output_type": "stream",
     "text": [
      "key: 3 HADPHQ FULSWRJUDILH\n"
     ]
    }
   ],
   "source": [
    "encrypt_cezar(3,\"EXAMEN CRIPTOGRAFIE\")"
   ]
  },
  {
   "cell_type": "markdown",
   "metadata": {},
   "source": [
    "Exercit¸iul 1.3.12 S˘a se decripteze mesajul:\n",
    "HADPH QFULS WRJUD ILH\n",
    "algoritmul utilizat fiind cifrul lui Cezar. Indicat¸i cheia de cifrare"
   ]
  },
  {
   "cell_type": "code",
   "execution_count": 54,
   "metadata": {},
   "outputs": [
    {
     "name": "stdout",
     "output_type": "stream",
     "text": [
      "key: 0 HADPH QFULS WRJUD ILH\n",
      "key: 1 IBEQI RGVMT XSKVE JMI\n",
      "key: 2 JCFRJ SHWNU YTLWF KNJ\n",
      "key: 3 KDGSK TIXOV ZUMXG LOK\n",
      "key: 4 LEHTL UJYPW AVNYH MPL\n",
      "key: 5 MFIUM VKZQX BWOZI NQM\n",
      "key: 6 NGJVN WLARY CXPAJ ORN\n",
      "key: 7 OHKWO XMBSZ DYQBK PSO\n",
      "key: 8 PILXP YNCTA EZRCL QTP\n",
      "key: 9 QJMYQ ZODUB FASDM RUQ\n",
      "key: 10 RKNZR APEVC GBTEN SVR\n",
      "key: 11 SLOAS BQFWD HCUFO TWS\n",
      "key: 12 TMPBT CRGXE IDVGP UXT\n",
      "key: 13 UNQCU DSHYF JEWHQ VYU\n",
      "key: 14 VORDV ETIZG KFXIR WZV\n",
      "key: 15 WPSEW FUJAH LGYJS XAW\n",
      "key: 16 XQTFX GVKBI MHZKT YBX\n",
      "key: 17 YRUGY HWLCJ NIALU ZCY\n",
      "key: 18 ZSVHZ IXMDK OJBMV ADZ\n",
      "key: 19 ATWIA JYNEL PKCNW BEA\n",
      "key: 20 BUXJB KZOFM QLDOX CFB\n",
      "key: 21 CVYKC LAPGN RMEPY DGC\n",
      "key: 22 DWZLD MBQHO SNFQZ EHD\n",
      "key: 23 EXAME NCRIP TOGRA FIE\n",
      "key: 24 FYBNF ODSJQ UPHSB GJF\n",
      "key: 25 GZCOG PETKR VQITC HKG\n"
     ]
    }
   ],
   "source": [
    "brute_f_cezar_decryptor(\"HADPH QFULS WRJUD ILH\")\n",
    "#cheia folosita k este -3 sau 23 key: 23 EXAME NCRIP TOGRA FIE"
   ]
  },
  {
   "cell_type": "markdown",
   "metadata": {},
   "source": [
    "Exercit¸iul 1.3.13 S˘a se cifreze mesajul:\n",
    "KANSAS CITY\n",
    "algoritmul utilizat fiind cifrul lui Cezar, cheia de cifrare k = 4."
   ]
  },
  {
   "cell_type": "code",
   "execution_count": 55,
   "metadata": {},
   "outputs": [
    {
     "name": "stdout",
     "output_type": "stream",
     "text": [
      "key: 4 OERWEW GMXC\n"
     ]
    }
   ],
   "source": [
    "encrypt_cezar(4,\"KANSAS CITY\")"
   ]
  },
  {
   "cell_type": "markdown",
   "metadata": {},
   "source": [
    "Exercit¸iul 1.3.14 S˘a se decripteze mesajul:\n",
    "OERWE WGMXC\n",
    "algoritmul utilizat fiind cifrul lui Cezar. Indicat¸i cheia de cifrare.\n",
    "\n"
   ]
  },
  {
   "cell_type": "code",
   "execution_count": 56,
   "metadata": {},
   "outputs": [
    {
     "name": "stdout",
     "output_type": "stream",
     "text": [
      "key: 0 OERWE WGMXC\n",
      "key: 1 PFSXF XHNYD\n",
      "key: 2 QGTYG YIOZE\n",
      "key: 3 RHUZH ZJPAF\n",
      "key: 4 SIVAI AKQBG\n",
      "key: 5 TJWBJ BLRCH\n",
      "key: 6 UKXCK CMSDI\n",
      "key: 7 VLYDL DNTEJ\n",
      "key: 8 WMZEM EOUFK\n",
      "key: 9 XNAFN FPVGL\n",
      "key: 10 YOBGO GQWHM\n",
      "key: 11 ZPCHP HRXIN\n",
      "key: 12 AQDIQ ISYJO\n",
      "key: 13 BREJR JTZKP\n",
      "key: 14 CSFKS KUALQ\n",
      "key: 15 DTGLT LVBMR\n",
      "key: 16 EUHMU MWCNS\n",
      "key: 17 FVINV NXDOT\n",
      "key: 18 GWJOW OYEPU\n",
      "key: 19 HXKPX PZFQV\n",
      "key: 20 IYLQY QAGRW\n",
      "key: 21 JZMRZ RBHSX\n",
      "key: 22 KANSA SCITY\n",
      "key: 23 LBOTB TDJUZ\n",
      "key: 24 MCPUC UEKVA\n",
      "key: 25 NDQVD VFLWB\n"
     ]
    }
   ],
   "source": [
    "brute_f_cezar_decryptor(\"OERWE WGMXC\")\n",
    "#cheia folosita k este -4 sau 22 key: 22 KANSA SCITY"
   ]
  }
 ],
 "metadata": {
  "kernelspec": {
   "display_name": "Python 3",
   "language": "python",
   "name": "python3"
  },
  "language_info": {
   "codemirror_mode": {
    "name": "ipython",
    "version": 3
   },
   "file_extension": ".py",
   "mimetype": "text/x-python",
   "name": "python",
   "nbconvert_exporter": "python",
   "pygments_lexer": "ipython3",
   "version": "3.11.6"
  }
 },
 "nbformat": 4,
 "nbformat_minor": 2
}
